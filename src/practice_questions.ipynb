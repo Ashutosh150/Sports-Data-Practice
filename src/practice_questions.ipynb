{
 "cells": [
  {
   "cell_type": "code",
   "execution_count": null,
   "metadata": {},
   "outputs": [],
   "source": [
    "import random\n",
    "\n",
    "team = []\n",
    "\n",
    "n = int(input('No of player: '))\n",
    "for i in range(n):\n",
    "    name = input(f'Enter player{i} detail: ')\n",
    "    position = random.randint(0, 100)\n",
    "    jersey_number = random.randint(0, 11)\n",
    "\n",
    "    player = {\n",
    "        'name' : name,\n",
    "        'position' : position,\n",
    "        'jersey_number' : jersey_number\n",
    "    }\n",
    "    team.append(player)\n",
    "\n",
    "position_list = [i['position'] for i in team]\n",
    "print(position_list)\n",
    "\n",
    "team_stat_update = input('Enter player name to add stats: ')\n",
    "found = False\n",
    "\n",
    "for i in team:\n",
    "    if i['name'] == team_stat_update:\n",
    "        i['yards gained'] = random.randint(1, 50)\n",
    "        i['touchdowns'] = random.randint(1, 50) \n",
    "        found = True\n",
    "        break\n",
    "\n",
    "if not found:\n",
    "    print('Player not found')\n",
    "\n",
    "total_yards = 0\n",
    "total_touchdowns = 0\n",
    "count_yards = 0\n",
    "count_touchdowns = 0\n",
    "\n",
    "for i in team:\n",
    "    if 'yards gained' in i:\n",
    "        total_yards += i['yards gained']\n",
    "        count_yards += 1\n",
    "    if 'touchdowns' in i:\n",
    "        total_touchdowns += i['touchdowns']\n",
    "        count_touchdowns += 1\n",
    "\n",
    "avgY = total_yards / count_yards if count_yards > 0 else 0\n",
    "avgT = total_touchdowns / count_touchdowns if count_touchdowns > 0 else 0\n",
    "\n",
    "print(avgY, avgT)"
   ]
  }
 ],
 "metadata": {
  "kernelspec": {
   "display_name": "Python 3",
   "language": "python",
   "name": "python3"
  },
  "language_info": {
   "codemirror_mode": {
    "name": "ipython",
    "version": 3
   },
   "file_extension": ".py",
   "mimetype": "text/x-python",
   "name": "python",
   "nbconvert_exporter": "python",
   "pygments_lexer": "ipython3",
   "version": "3.13.3"
  }
 },
 "nbformat": 4,
 "nbformat_minor": 4
}
