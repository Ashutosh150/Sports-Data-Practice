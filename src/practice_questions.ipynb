{
 "cells": [
  {
   "cell_type": "code",
   "execution_count": 1,
   "metadata": {},
   "outputs": [
    {
     "ename": "ValueError",
     "evalue": "invalid literal for int() with base 10: ''",
     "output_type": "error",
     "traceback": [
      "\u001b[31m---------------------------------------------------------------------------\u001b[39m",
      "\u001b[31mValueError\u001b[39m                                Traceback (most recent call last)",
      "\u001b[36mCell\u001b[39m\u001b[36m \u001b[39m\u001b[32mIn[1]\u001b[39m\u001b[32m, line 5\u001b[39m\n\u001b[32m      1\u001b[39m \u001b[38;5;28;01mimport\u001b[39;00m\u001b[38;5;250m \u001b[39m\u001b[34;01mrandom\u001b[39;00m\n\u001b[32m      3\u001b[39m team = []\n\u001b[32m----> \u001b[39m\u001b[32m5\u001b[39m n = \u001b[38;5;28;43mint\u001b[39;49m\u001b[43m(\u001b[49m\u001b[38;5;28;43minput\u001b[39;49m\u001b[43m(\u001b[49m\u001b[33;43m'\u001b[39;49m\u001b[33;43mNo of player: \u001b[39;49m\u001b[33;43m'\u001b[39;49m\u001b[43m)\u001b[49m\u001b[43m)\u001b[49m\n\u001b[32m      7\u001b[39m \u001b[38;5;28;01mfor\u001b[39;00m i \u001b[38;5;129;01min\u001b[39;00m \u001b[38;5;28mrange\u001b[39m(n):\n\u001b[32m      8\u001b[39m     name = \u001b[38;5;28minput\u001b[39m(\u001b[33mf\u001b[39m\u001b[33m'\u001b[39m\u001b[33mEnter player\u001b[39m\u001b[38;5;132;01m{\u001b[39;00mi\u001b[38;5;132;01m}\u001b[39;00m\u001b[33m detail: \u001b[39m\u001b[33m'\u001b[39m)\n",
      "\u001b[31mValueError\u001b[39m: invalid literal for int() with base 10: ''"
     ]
    }
   ],
   "source": [
    "import random\n",
    "\n",
    "team = []\n",
    "\n",
    "n = int(input('No of player: '))\n",
    "\n",
    "for i in range(n):\n",
    "    name = input(f'Enter player{i} detail: ')\n",
    "    position = random.randint(0, 100)\n",
    "    jersey_number = random.randint(0, 11)\n",
    "\n",
    "    player = {\n",
    "        'name' : name,\n",
    "        'position' : position,\n",
    "        'jersey_number' : jersey_number\n",
    "    }\n",
    "    team.append(player)\n",
    "\n",
    "position_list = [i['position'] for i in team]\n",
    "print(position_list)\n",
    "\n",
    "team_stat_update = input('Enter player name to add stats: ')\n",
    "found = False\n",
    "\n",
    "for i in team:\n",
    "    if i['name'] == team_stat_update:\n",
    "        i['yards gained'] = random.randint(1, 50)\n",
    "        i['touchdowns'] = random.randint(1, 50) \n",
    "        found = True\n",
    "        break\n",
    "\n",
    "if not found:\n",
    "    print('Player not found')\n",
    "\n",
    "total_yards = 0\n",
    "total_touchdowns = 0\n",
    "count_yards = 0\n",
    "count_touchdowns = 0\n",
    "\n",
    "for i in team:\n",
    "    if 'yards gained' in i:\n",
    "        total_yards += i['yards gained']\n",
    "        count_yards += 1\n",
    "    if 'touchdowns' in i:\n",
    "        total_touchdowns += i['touchdowns']\n",
    "        count_touchdowns += 1\n",
    "\n",
    "avgY = total_yards / count_yards if count_yards > 0 else 0\n",
    "avgT = total_touchdowns / count_touchdowns if count_touchdowns > 0 else 0\n",
    "\n",
    "print(avgY, avgT)"
   ]
  }
 ],
 "metadata": {
  "kernelspec": {
   "display_name": "Python 3",
   "language": "python",
   "name": "python3"
  },
  "language_info": {
   "codemirror_mode": {
    "name": "ipython",
    "version": 3
   },
   "file_extension": ".py",
   "mimetype": "text/x-python",
   "name": "python",
   "nbconvert_exporter": "python",
   "pygments_lexer": "ipython3",
   "version": "3.13.3"
  }
 },
 "nbformat": 4,
 "nbformat_minor": 4
}
